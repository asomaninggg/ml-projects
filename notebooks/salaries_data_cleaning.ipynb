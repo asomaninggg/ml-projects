{
 "cells": [
  {
   "cell_type": "code",
   "execution_count": 1,
   "metadata": {},
   "outputs": [],
   "source": [
    "import pandas as pd\n",
    "\n",
    "#loading the dataset\n",
    "df = pd.read_csv(r'..\\data\\raw_data\\salaries.csv')"
   ]
  },
  {
   "cell_type": "code",
   "execution_count": 2,
   "metadata": {},
   "outputs": [
    {
     "name": "stdout",
     "output_type": "stream",
     "text": [
      "<class 'pandas.core.frame.DataFrame'>\n",
      "RangeIndex: 88584 entries, 0 to 88583\n",
      "Data columns (total 11 columns):\n",
      " #   Column              Non-Null Count  Dtype \n",
      "---  ------              --------------  ----- \n",
      " 0   work_year           88584 non-null  int64 \n",
      " 1   experience_level    88584 non-null  object\n",
      " 2   employment_type     88584 non-null  object\n",
      " 3   job_title           88584 non-null  object\n",
      " 4   salary              88584 non-null  int64 \n",
      " 5   salary_currency     88584 non-null  object\n",
      " 6   salary_in_usd       88584 non-null  int64 \n",
      " 7   employee_residence  88584 non-null  object\n",
      " 8   remote_ratio        88584 non-null  int64 \n",
      " 9   company_location    88584 non-null  object\n",
      " 10  company_size        88584 non-null  object\n",
      "dtypes: int64(4), object(7)\n",
      "memory usage: 7.4+ MB\n",
      "None\n"
     ]
    }
   ],
   "source": [
    "#to give summary of the dataset\n",
    "print(df.info())\n"
   ]
  },
  {
   "cell_type": "code",
   "execution_count": 3,
   "metadata": {},
   "outputs": [
    {
     "name": "stdout",
     "output_type": "stream",
     "text": [
      "   work_year experience_level employment_type                 job_title  \\\n",
      "0       2025               MI              FT  Customer Success Manager   \n",
      "1       2025               SE              FT                  Engineer   \n",
      "2       2025               SE              FT                  Engineer   \n",
      "3       2025               SE              FT         Applied Scientist   \n",
      "4       2025               SE              FT         Applied Scientist   \n",
      "\n",
      "   salary salary_currency  salary_in_usd employee_residence  remote_ratio  \\\n",
      "0   57000             EUR          60000                 NL            50   \n",
      "1  165000             USD         165000                 US             0   \n",
      "2  109000             USD         109000                 US             0   \n",
      "3  294000             USD         294000                 US             0   \n",
      "4  137600             USD         137600                 US             0   \n",
      "\n",
      "  company_location company_size  \n",
      "0               NL            L  \n",
      "1               US            M  \n",
      "2               US            M  \n",
      "3               US            M  \n",
      "4               US            M  \n"
     ]
    }
   ],
   "source": [
    "#calls first five rows of the dataset\n",
    "print(df.head())\n"
   ]
  },
  {
   "cell_type": "code",
   "execution_count": 4,
   "metadata": {},
   "outputs": [
    {
     "name": "stdout",
     "output_type": "stream",
     "text": [
      "          work_year        salary  salary_in_usd  remote_ratio\n",
      "count  88584.000000  8.858400e+04   88584.000000  88584.000000\n",
      "mean    2024.034758  1.619323e+05  157567.798417     21.286011\n",
      "std        0.620370  1.965317e+05   73531.373158     40.831018\n",
      "min     2020.000000  1.400000e+04   15000.000000      0.000000\n",
      "25%     2024.000000  1.060000e+05  106097.250000      0.000000\n",
      "50%     2024.000000  1.470000e+05  146307.000000      0.000000\n",
      "75%     2024.000000  1.995000e+05  198600.000000      0.000000\n",
      "max     2025.000000  3.040000e+07  800000.000000    100.000000\n"
     ]
    }
   ],
   "source": [
    "#gives statistical data\n",
    "print(df.describe())"
   ]
  },
  {
   "cell_type": "code",
   "execution_count": 5,
   "metadata": {},
   "outputs": [
    {
     "name": "stdout",
     "output_type": "stream",
     "text": [
      "work_year             0\n",
      "experience_level      0\n",
      "employment_type       0\n",
      "job_title             0\n",
      "salary                0\n",
      "salary_currency       0\n",
      "salary_in_usd         0\n",
      "employee_residence    0\n",
      "remote_ratio          0\n",
      "company_location      0\n",
      "company_size          0\n",
      "dtype: int64\n"
     ]
    }
   ],
   "source": [
    "#checks for missing values\n",
    "print(df.isnull().sum())"
   ]
  },
  {
   "cell_type": "code",
   "execution_count": 6,
   "metadata": {},
   "outputs": [],
   "source": [
    "#drops rows with missing values and places it in a new variable \"df_cleaned\"\n",
    "df_cleaned = df.dropna()\n",
    "\n",
    "#we don't have any missing values so we go ahead and leave this side to the duplication part"
   ]
  },
  {
   "cell_type": "code",
   "execution_count": 7,
   "metadata": {},
   "outputs": [
    {
     "name": "stdout",
     "output_type": "stream",
     "text": [
      "44340\n"
     ]
    }
   ],
   "source": [
    "#identifies duplicates\n",
    "print(df.duplicated().sum())"
   ]
  },
  {
   "cell_type": "code",
   "execution_count": 8,
   "metadata": {},
   "outputs": [],
   "source": [
    "#drops duplicates\n",
    "df_no_duplicates = df.drop_duplicates()"
   ]
  },
  {
   "cell_type": "code",
   "execution_count": 9,
   "metadata": {},
   "outputs": [
    {
     "name": "stdout",
     "output_type": "stream",
     "text": [
      "work_year              int64\n",
      "experience_level      object\n",
      "employment_type       object\n",
      "job_title             object\n",
      "salary                 int64\n",
      "salary_currency       object\n",
      "salary_in_usd          int64\n",
      "employee_residence    object\n",
      "remote_ratio           int64\n",
      "company_location      object\n",
      "company_size          object\n",
      "dtype: object\n"
     ]
    }
   ],
   "source": [
    "#converts 'salary' to float\n",
    "df['salary'] = df['salary'].astype(int)\n",
    "\n",
    "#displays updated data types\n",
    "print(df.dtypes)"
   ]
  },
  {
   "cell_type": "code",
   "execution_count": 10,
   "metadata": {},
   "outputs": [
    {
     "data": {
      "image/png": "[encoded data removed]",
      "text/plain": [
       "<Figure size 640x480 with 1 Axes>"
      ]
     },
     "metadata": {},
     "output_type": "display_data"
    }
   ],
   "source": [
    "import matplotlib.pyplot as plt\n",
    "\n",
    "df_cleaned['salary'].hist(bins=20)\n",
    "plt.title('Salary Distribution')\n",
    "plt.xlabel('Salary')\n",
    "plt.ylabel('Frequency')\n",
    "plt.show()\n"
   ]
  }
 ],
 "metadata": {
  "kernelspec": {
   "display_name": "Python 3",
   "language": "python",
   "name": "python3"
  },
  "language_info": {
   "codemirror_mode": {
    "name": "ipython",
    "version": 3
   },
   "file_extension": ".py",
   "mimetype": "text/x-python",
   "name": "python",
   "nbconvert_exporter": "python",
   "pygments_lexer": "ipython3",
   "version": "3.13.2"
  }
 },
 "nbformat": 4,
 "nbformat_minor": 2
}
