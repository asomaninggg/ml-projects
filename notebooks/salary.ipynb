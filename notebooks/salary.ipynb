{
 "cells": [
  {
   "cell_type": "code",
   "execution_count": 1,
   "id": "38fe6788",
   "metadata": {},
   "outputs": [],
   "source": [
    "import sys\n",
    "sys.path.append(\"../src\")\n",
    "\n",
    "import pandas as pd\n",
    "from data_cleaning import clean_salary_data, check_missing_duplicates"
   ]
  },
  {
   "cell_type": "code",
   "execution_count": 2,
   "id": "a6ee9efa",
   "metadata": {},
   "outputs": [],
   "source": [
    "df = pd.read_csv(\"../data/raw_data/salaries.csv\")"
   ]
  },
  {
   "cell_type": "code",
   "execution_count": 3,
   "id": "6838e741",
   "metadata": {},
   "outputs": [
    {
     "data": {
      "text/plain": [
       "<bound method DataFrame.info of        work_year experience_level employment_type                 job_title  \\\n",
       "0           2025               MI              FT  Customer Success Manager   \n",
       "1           2025               SE              FT                  Engineer   \n",
       "2           2025               SE              FT                  Engineer   \n",
       "3           2025               SE              FT         Applied Scientist   \n",
       "4           2025               SE              FT         Applied Scientist   \n",
       "...          ...              ...             ...                       ...   \n",
       "88579       2020               SE              FT            Data Scientist   \n",
       "88580       2021               MI              FT  Principal Data Scientist   \n",
       "88581       2020               EN              FT            Data Scientist   \n",
       "88582       2020               EN              CT     Business Data Analyst   \n",
       "88583       2021               SE              FT            Data Scientist   \n",
       "\n",
       "        salary salary_currency  salary_in_usd employee_residence  \\\n",
       "0        57000             EUR          60000                 NL   \n",
       "1       165000             USD         165000                 US   \n",
       "2       109000             USD         109000                 US   \n",
       "3       294000             USD         294000                 US   \n",
       "4       137600             USD         137600                 US   \n",
       "...        ...             ...            ...                ...   \n",
       "88579   412000             USD         412000                 US   \n",
       "88580   151000             USD         151000                 US   \n",
       "88581   105000             USD         105000                 US   \n",
       "88582   100000             USD         100000                 US   \n",
       "88583  7000000             INR          94665                 IN   \n",
       "\n",
       "       remote_ratio company_location company_size  \n",
       "0                50               NL            L  \n",
       "1                 0               US            M  \n",
       "2                 0               US            M  \n",
       "3                 0               US            M  \n",
       "4                 0               US            M  \n",
       "...             ...              ...          ...  \n",
       "88579           100               US            L  \n",
       "88580           100               US            L  \n",
       "88581           100               US            S  \n",
       "88582           100               US            L  \n",
       "88583            50               IN            L  \n",
       "\n",
       "[88584 rows x 11 columns]>"
      ]
     },
     "execution_count": 3,
     "metadata": {},
     "output_type": "execute_result"
    }
   ],
   "source": [
    "df.info"
   ]
  },
  {
   "cell_type": "code",
   "execution_count": 4,
   "id": "707bdae0",
   "metadata": {},
   "outputs": [
    {
     "name": "stdout",
     "output_type": "stream",
     "text": [
      "   work_year experience_level employment_type                 job_title  \\\n",
      "0       2025               MI              FT  Customer Success Manager   \n",
      "1       2025               SE              FT                  Engineer   \n",
      "2       2025               SE              FT                  Engineer   \n",
      "3       2025               SE              FT         Applied Scientist   \n",
      "4       2025               SE              FT         Applied Scientist   \n",
      "\n",
      "   salary salary_currency  salary_in_usd employee_residence  remote_ratio  \\\n",
      "0   57000             EUR          60000                 NL            50   \n",
      "1  165000             USD         165000                 US             0   \n",
      "2  109000             USD         109000                 US             0   \n",
      "3  294000             USD         294000                 US             0   \n",
      "4  137600             USD         137600                 US             0   \n",
      "\n",
      "  company_location company_size  \n",
      "0               NL            L  \n",
      "1               US            M  \n",
      "2               US            M  \n",
      "3               US            M  \n",
      "4               US            M  \n"
     ]
    }
   ],
   "source": [
    "print(df.head())"
   ]
  },
  {
   "cell_type": "code",
   "execution_count": 5,
   "id": "9ff3e1e5",
   "metadata": {},
   "outputs": [
    {
     "name": "stdout",
     "output_type": "stream",
     "text": [
      "Missing values:\n",
      " work_year             0\n",
      "experience_level      0\n",
      "employment_type       0\n",
      "job_title             0\n",
      "salary                0\n",
      "salary_currency       0\n",
      "salary_in_usd         0\n",
      "employee_residence    0\n",
      "remote_ratio          0\n",
      "company_location      0\n",
      "company_size          0\n",
      "dtype: int64\n",
      "\n",
      "Duplicate rows: 44340\n"
     ]
    }
   ],
   "source": [
    "check_missing_duplicates(df)"
   ]
  },
  {
   "cell_type": "code",
   "execution_count": 6,
   "id": "4f3c4920",
   "metadata": {},
   "outputs": [],
   "source": [
    "df_cleaned = clean_salary_data(df)"
   ]
  },
  {
   "cell_type": "code",
   "execution_count": 7,
   "id": "66dfacbd",
   "metadata": {},
   "outputs": [
    {
     "name": "stdout",
     "output_type": "stream",
     "text": [
      "Missing values:\n",
      " work_year             0\n",
      "experience_level      0\n",
      "employment_type       0\n",
      "job_title             0\n",
      "salary                0\n",
      "salary_currency       0\n",
      "salary_in_usd         0\n",
      "employee_residence    0\n",
      "remote_ratio          0\n",
      "company_location      0\n",
      "company_size          0\n",
      "dtype: int64\n",
      "\n",
      "Duplicate rows: 0\n"
     ]
    }
   ],
   "source": [
    "check_missing_duplicates(df_cleaned)"
   ]
  },
  {
   "cell_type": "code",
   "execution_count": 8,
   "id": "44dd9b99",
   "metadata": {},
   "outputs": [
    {
     "data": {
      "text/html": [
       "<div>\n",
       "<style scoped>\n",
       "    .dataframe tbody tr th:only-of-type {\n",
       "        vertical-align: middle;\n",
       "    }\n",
       "\n",
       "    .dataframe tbody tr th {\n",
       "        vertical-align: top;\n",
       "    }\n",
       "\n",
       "    .dataframe thead th {\n",
       "        text-align: right;\n",
       "    }\n",
       "</style>\n",
       "<table border=\"1\" class=\"dataframe\">\n",
       "  <thead>\n",
       "    <tr style=\"text-align: right;\">\n",
       "      <th></th>\n",
       "      <th>work_year</th>\n",
       "      <th>experience_level</th>\n",
       "      <th>employment_type</th>\n",
       "      <th>job_title</th>\n",
       "      <th>salary</th>\n",
       "      <th>salary_currency</th>\n",
       "      <th>salary_in_usd</th>\n",
       "      <th>employee_residence</th>\n",
       "      <th>remote_ratio</th>\n",
       "      <th>company_location</th>\n",
       "      <th>company_size</th>\n",
       "    </tr>\n",
       "  </thead>\n",
       "  <tbody>\n",
       "    <tr>\n",
       "      <th>0</th>\n",
       "      <td>2025</td>\n",
       "      <td>MI</td>\n",
       "      <td>FT</td>\n",
       "      <td>Customer Success Manager</td>\n",
       "      <td>57000</td>\n",
       "      <td>EUR</td>\n",
       "      <td>60000</td>\n",
       "      <td>NL</td>\n",
       "      <td>50</td>\n",
       "      <td>NL</td>\n",
       "      <td>L</td>\n",
       "    </tr>\n",
       "    <tr>\n",
       "      <th>1</th>\n",
       "      <td>2025</td>\n",
       "      <td>SE</td>\n",
       "      <td>FT</td>\n",
       "      <td>Engineer</td>\n",
       "      <td>165000</td>\n",
       "      <td>USD</td>\n",
       "      <td>165000</td>\n",
       "      <td>US</td>\n",
       "      <td>0</td>\n",
       "      <td>US</td>\n",
       "      <td>M</td>\n",
       "    </tr>\n",
       "    <tr>\n",
       "      <th>2</th>\n",
       "      <td>2025</td>\n",
       "      <td>SE</td>\n",
       "      <td>FT</td>\n",
       "      <td>Engineer</td>\n",
       "      <td>109000</td>\n",
       "      <td>USD</td>\n",
       "      <td>109000</td>\n",
       "      <td>US</td>\n",
       "      <td>0</td>\n",
       "      <td>US</td>\n",
       "      <td>M</td>\n",
       "    </tr>\n",
       "    <tr>\n",
       "      <th>3</th>\n",
       "      <td>2025</td>\n",
       "      <td>SE</td>\n",
       "      <td>FT</td>\n",
       "      <td>Applied Scientist</td>\n",
       "      <td>294000</td>\n",
       "      <td>USD</td>\n",
       "      <td>294000</td>\n",
       "      <td>US</td>\n",
       "      <td>0</td>\n",
       "      <td>US</td>\n",
       "      <td>M</td>\n",
       "    </tr>\n",
       "    <tr>\n",
       "      <th>4</th>\n",
       "      <td>2025</td>\n",
       "      <td>SE</td>\n",
       "      <td>FT</td>\n",
       "      <td>Applied Scientist</td>\n",
       "      <td>137600</td>\n",
       "      <td>USD</td>\n",
       "      <td>137600</td>\n",
       "      <td>US</td>\n",
       "      <td>0</td>\n",
       "      <td>US</td>\n",
       "      <td>M</td>\n",
       "    </tr>\n",
       "  </tbody>\n",
       "</table>\n",
       "</div>"
      ],
      "text/plain": [
       "   work_year experience_level employment_type                 job_title  \\\n",
       "0       2025               MI              FT  Customer Success Manager   \n",
       "1       2025               SE              FT                  Engineer   \n",
       "2       2025               SE              FT                  Engineer   \n",
       "3       2025               SE              FT         Applied Scientist   \n",
       "4       2025               SE              FT         Applied Scientist   \n",
       "\n",
       "   salary salary_currency  salary_in_usd employee_residence  remote_ratio  \\\n",
       "0   57000             EUR          60000                 NL            50   \n",
       "1  165000             USD         165000                 US             0   \n",
       "2  109000             USD         109000                 US             0   \n",
       "3  294000             USD         294000                 US             0   \n",
       "4  137600             USD         137600                 US             0   \n",
       "\n",
       "  company_location company_size  \n",
       "0               NL            L  \n",
       "1               US            M  \n",
       "2               US            M  \n",
       "3               US            M  \n",
       "4               US            M  "
      ]
     },
     "execution_count": 8,
     "metadata": {},
     "output_type": "execute_result"
    }
   ],
   "source": [
    "df_cleaned.head()"
   ]
  },
  {
   "cell_type": "code",
   "execution_count": 9,
   "id": "4a58e4b3",
   "metadata": {},
   "outputs": [
    {
     "data": {
      "text/html": [
       "<div>\n",
       "<style scoped>\n",
       "    .dataframe tbody tr th:only-of-type {\n",
       "        vertical-align: middle;\n",
       "    }\n",
       "\n",
       "    .dataframe tbody tr th {\n",
       "        vertical-align: top;\n",
       "    }\n",
       "\n",
       "    .dataframe thead th {\n",
       "        text-align: right;\n",
       "    }\n",
       "</style>\n",
       "<table border=\"1\" class=\"dataframe\">\n",
       "  <thead>\n",
       "    <tr style=\"text-align: right;\">\n",
       "      <th></th>\n",
       "      <th>work_year</th>\n",
       "      <th>salary</th>\n",
       "      <th>salary_in_usd</th>\n",
       "      <th>remote_ratio</th>\n",
       "    </tr>\n",
       "  </thead>\n",
       "  <tbody>\n",
       "    <tr>\n",
       "      <th>count</th>\n",
       "      <td>44244.000000</td>\n",
       "      <td>4.424400e+04</td>\n",
       "      <td>44244.000000</td>\n",
       "      <td>44244.000000</td>\n",
       "    </tr>\n",
       "    <tr>\n",
       "      <th>mean</th>\n",
       "      <td>2024.065952</td>\n",
       "      <td>1.599579e+05</td>\n",
       "      <td>151313.435788</td>\n",
       "      <td>24.941235</td>\n",
       "    </tr>\n",
       "    <tr>\n",
       "      <th>std</th>\n",
       "      <td>0.713820</td>\n",
       "      <td>2.673229e+05</td>\n",
       "      <td>77343.097878</td>\n",
       "      <td>43.075374</td>\n",
       "    </tr>\n",
       "    <tr>\n",
       "      <th>min</th>\n",
       "      <td>2020.000000</td>\n",
       "      <td>1.400000e+04</td>\n",
       "      <td>15000.000000</td>\n",
       "      <td>0.000000</td>\n",
       "    </tr>\n",
       "    <tr>\n",
       "      <th>25%</th>\n",
       "      <td>2024.000000</td>\n",
       "      <td>9.620000e+04</td>\n",
       "      <td>96200.000000</td>\n",
       "      <td>0.000000</td>\n",
       "    </tr>\n",
       "    <tr>\n",
       "      <th>50%</th>\n",
       "      <td>2024.000000</td>\n",
       "      <td>1.400000e+05</td>\n",
       "      <td>139200.000000</td>\n",
       "      <td>0.000000</td>\n",
       "    </tr>\n",
       "    <tr>\n",
       "      <th>75%</th>\n",
       "      <td>2024.000000</td>\n",
       "      <td>1.920000e+05</td>\n",
       "      <td>190315.000000</td>\n",
       "      <td>50.000000</td>\n",
       "    </tr>\n",
       "    <tr>\n",
       "      <th>max</th>\n",
       "      <td>2025.000000</td>\n",
       "      <td>3.040000e+07</td>\n",
       "      <td>800000.000000</td>\n",
       "      <td>100.000000</td>\n",
       "    </tr>\n",
       "  </tbody>\n",
       "</table>\n",
       "</div>"
      ],
      "text/plain": [
       "          work_year        salary  salary_in_usd  remote_ratio\n",
       "count  44244.000000  4.424400e+04   44244.000000  44244.000000\n",
       "mean    2024.065952  1.599579e+05  151313.435788     24.941235\n",
       "std        0.713820  2.673229e+05   77343.097878     43.075374\n",
       "min     2020.000000  1.400000e+04   15000.000000      0.000000\n",
       "25%     2024.000000  9.620000e+04   96200.000000      0.000000\n",
       "50%     2024.000000  1.400000e+05  139200.000000      0.000000\n",
       "75%     2024.000000  1.920000e+05  190315.000000     50.000000\n",
       "max     2025.000000  3.040000e+07  800000.000000    100.000000"
      ]
     },
     "execution_count": 9,
     "metadata": {},
     "output_type": "execute_result"
    }
   ],
   "source": [
    "df_cleaned.describe()"
   ]
  },
  {
   "cell_type": "code",
   "execution_count": 10,
   "id": "14a2027e",
   "metadata": {},
   "outputs": [
    {
     "data": {
      "text/plain": [
       "work_year             0\n",
       "experience_level      0\n",
       "employment_type       0\n",
       "job_title             0\n",
       "salary                0\n",
       "salary_currency       0\n",
       "salary_in_usd         0\n",
       "employee_residence    0\n",
       "remote_ratio          0\n",
       "company_location      0\n",
       "company_size          0\n",
       "dtype: int64"
      ]
     },
     "execution_count": 10,
     "metadata": {},
     "output_type": "execute_result"
    }
   ],
   "source": [
    "df_cleaned.isnull().sum()"
   ]
  },
  {
   "cell_type": "code",
   "execution_count": 11,
   "id": "74b61629",
   "metadata": {},
   "outputs": [
    {
     "data": {
      "text/plain": [
       "np.int64(0)"
      ]
     },
     "execution_count": 11,
     "metadata": {},
     "output_type": "execute_result"
    }
   ],
   "source": [
    "df_cleaned.duplicated().sum()"
   ]
  },
  {
   "cell_type": "code",
   "execution_count": 12,
   "id": "31996c71",
   "metadata": {},
   "outputs": [
    {
     "data": {
      "text/plain": [
       "job_title\n",
       "Data Scientist               5207\n",
       "Data Engineer                4916\n",
       "Data Analyst                 4355\n",
       "Software Engineer            3009\n",
       "Machine Learning Engineer    2583\n",
       "                             ... \n",
       "Sales Data Analyst              1\n",
       "Data Science Tech Lead          1\n",
       "Marketing Data Engineer         1\n",
       "Principal Data Architect        1\n",
       "Cloud Data Architect            1\n",
       "Name: count, Length: 312, dtype: int64"
      ]
     },
     "execution_count": 12,
     "metadata": {},
     "output_type": "execute_result"
    }
   ],
   "source": [
    "df_cleaned['job_title'].value_counts()"
   ]
  },
  {
   "cell_type": "code",
   "execution_count": 13,
   "id": "5f721cae",
   "metadata": {},
   "outputs": [
    {
     "data": {
      "text/plain": [
       "company_location\n",
       "US    37445\n",
       "CA     2461\n",
       "GB     1820\n",
       "AU      269\n",
       "DE      239\n",
       "FR      181\n",
       "LT      171\n",
       "NL      168\n",
       "ES      132\n",
       "IN      119\n",
       "Name: count, dtype: int64"
      ]
     },
     "execution_count": 13,
     "metadata": {},
     "output_type": "execute_result"
    }
   ],
   "source": [
    "df_cleaned['company_location'].value_counts().head(10)"
   ]
  },
  {
   "cell_type": "code",
   "execution_count": 14,
   "id": "8ce096d1",
   "metadata": {},
   "outputs": [
    {
     "data": {
      "text/plain": [
       "salary_in_usd\n",
       "100000    453\n",
       "150000    396\n",
       "120000    387\n",
       "130000    328\n",
       "160000    318\n",
       "         ... \n",
       "116914      1\n",
       "46597       1\n",
       "41689       1\n",
       "114047      1\n",
       "94665       1\n",
       "Name: count, Length: 9164, dtype: int64"
      ]
     },
     "execution_count": 14,
     "metadata": {},
     "output_type": "execute_result"
    }
   ],
   "source": [
    "df_cleaned['salary_in_usd'].value_counts()"
   ]
  },
  {
   "cell_type": "code",
   "execution_count": 20,
   "id": "28362c9b",
   "metadata": {},
   "outputs": [],
   "source": [
    "df_cleaned.to_csv('../data/clean_data/cleaned_salary.csv', index=False)"
   ]
  }
 ],
 "metadata": {
  "kernelspec": {
   "display_name": "Python 3",
   "language": "python",
   "name": "python3"
  },
  "language_info": {
   "codemirror_mode": {
    "name": "ipython",
    "version": 3
   },
   "file_extension": ".py",
   "mimetype": "text/x-python",
   "name": "python",
   "nbconvert_exporter": "python",
   "pygments_lexer": "ipython3",
   "version": "3.13.2"
  }
 },
 "nbformat": 4,
 "nbformat_minor": 5
}
